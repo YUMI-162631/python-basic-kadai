{
  "nbformat": 4,
  "nbformat_minor": 0,
  "metadata": {
    "colab": {
      "provenance": []
    },
    "kernelspec": {
      "name": "python3",
      "display_name": "Python 3"
    },
    "language_info": {
      "name": "python"
    }
  },
  "cells": [
    {
      "cell_type": "code",
      "execution_count": null,
      "metadata": {
        "id": "eczw8itfr7L_"
      },
      "outputs": [],
      "source": [
        "def purchase_total(price,taxrate):\n",
        "    tax = price * (taxrate / 100)\n",
        "    total = price + tax\n",
        "    return total\n",
        "\n",
        "result = purchase_total(100,10)\n",
        "print(result)"
      ]
    }
  ]
}