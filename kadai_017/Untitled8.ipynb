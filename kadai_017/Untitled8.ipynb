{
  "nbformat": 4,
  "nbformat_minor": 0,
  "metadata": {
    "colab": {
      "provenance": []
    },
    "kernelspec": {
      "name": "python3",
      "display_name": "Python 3"
    },
    "language_info": {
      "name": "python"
    }
  },
  "cells": [
    {
      "cell_type": "code",
      "execution_count": 14,
      "metadata": {
        "colab": {
          "base_uri": "https://localhost:8080/"
        },
        "id": "P9qXyyMlQrb_",
        "outputId": "1d429f14-289a-4085-e916-6a335558b73a"
      },
      "outputs": [
        {
          "output_type": "stream",
          "name": "stdout",
          "text": [
            "侍太郎は25歳で大人です\n",
            "侍二郎は20歳で大人です\n",
            "侍三郎は15歳で大人ではありません\n"
          ]
        }
      ],
      "source": [
        "from os import ST_WRITE\n",
        "class Human:\n",
        "\n",
        "  def __init__(self, name, age):\n",
        "      self.name = name\n",
        "      self.age = age\n",
        "\n",
        "  def check_adult(self):\n",
        "      if self.age >= 20:\n",
        "         print(f\"{self.name}は{self.age}歳で大人です\")\n",
        "      else:\n",
        "         print(f\"{self.name}は{self.age}歳で大人ではありません\")\n",
        "\n",
        "human = [\n",
        "    Human(\"侍太郎\", 25),\n",
        "    Human(\"侍二郎\", 20),\n",
        "    Human(\"侍三郎\", 15)\n",
        "]\n",
        "\n",
        "# 繰り返し処理で全員の check_adult を実行\n",
        "for people in human:\n",
        "    people.check_adult()\n",
        "\n"
      ]
    }
  ]
}